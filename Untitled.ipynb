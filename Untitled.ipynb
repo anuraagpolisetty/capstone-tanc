{
 "cells": [
  {
   "cell_type": "code",
   "execution_count": 1,
   "metadata": {},
   "outputs": [],
   "source": [
    "import pandas as pd"
   ]
  },
  {
   "cell_type": "code",
   "execution_count": 2,
   "metadata": {},
   "outputs": [],
   "source": [
    "data = pd.read_csv(\"data/TOTAL.csv\")"
   ]
  },
  {
   "cell_type": "code",
   "execution_count": 4,
   "metadata": {},
   "outputs": [
    {
     "data": {
      "text/plain": [
       "Index(['Respondent ID', 'Collector ID', 'Batch', 'SiteID', 'Start Date',\n",
       "       'End Date', 'IP Address', 'Email Address', 'First Name', 'Last Name',\n",
       "       'Custom Data 1', 'Do more volunteer work',\n",
       "       'See friends more often/make new friends',\n",
       "       'Take better care of my health', 'Eat meals that are better for me',\n",
       "       'Have more energy', 'Feel happier or more satisfied with my life',\n",
       "       'Have something to look forward to each day',\n",
       "       'Know where to ask if I need a service such as a ride to a doctor or an aide',\n",
       "       'Feel more able to stay independent',\n",
       "       'Feel that the senior center has had a positive effect on my life',\n",
       "       'Learn new things', 'Have learned about services and benefits',\n",
       "       'Am more physically active',\n",
       "       'Would recommend the senior center to a friend or family member',\n",
       "       'Please tell us how participating in the senior center has changed your life',\n",
       "       'I participate in the following activities at the senior center',\n",
       "       'Race - American Indian or Alaska Native',\n",
       "       'Race - Asian, Asian-American',\n",
       "       'Race - Black, African-American, Other African',\n",
       "       'Race - Hawaiian Native or Pacific Islander', 'Race - Hispanic, Latino',\n",
       "       'Race - Other', 'Race - White or Caucasian', 'Race',\n",
       "       'What is your zip code', 'Other (please specify)',\n",
       "       'What is your estimated annual income', 'Extra'],\n",
       "      dtype='object')"
      ]
     },
     "execution_count": 4,
     "metadata": {},
     "output_type": "execute_result"
    }
   ],
   "source": [
    "data.head()\n",
    "data.columns"
   ]
  }
 ],
 "metadata": {
  "kernelspec": {
   "display_name": "Python 3",
   "language": "python",
   "name": "python3"
  },
  "language_info": {
   "codemirror_mode": {
    "name": "ipython",
    "version": 3
   },
   "file_extension": ".py",
   "mimetype": "text/x-python",
   "name": "python",
   "nbconvert_exporter": "python",
   "pygments_lexer": "ipython3",
   "version": "3.7.1"
  }
 },
 "nbformat": 4,
 "nbformat_minor": 2
}
